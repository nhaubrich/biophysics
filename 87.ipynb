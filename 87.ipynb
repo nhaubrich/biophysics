{
 "cells": [
  {
   "cell_type": "code",
   "execution_count": 138,
   "metadata": {},
   "outputs": [],
   "source": [
    "import numpy as np\n",
    "import matplotlib.pyplot as plt\n",
    "from scipy.integrate import odeint\n",
    "\n",
    "def func(var, r, p1,p2):\n",
    "    f,g = var\n",
    "    #paremeters: qp/ep, q/kT\n",
    "    #var: df/dr = g, dg/dr = Asinh(Bf/r) so f is 0, g is 1\n",
    "    return [g, -1*p1*np.sinh(p2*f/r)]\n",
    "\n",
    "Zqe_ep = 1.8*10**-6\n",
    "\n",
    "x_span = np.linspace(10**-20,10**-5)\n",
    "sol = odeint(func=func,y0=[Zqe_ep,0] ,args=(1.8*10**-6*6*10**23,38.4*10**-30),t=x_span)"
   ]
  },
  {
   "cell_type": "code",
   "execution_count": 139,
   "metadata": {},
   "outputs": [
    {
     "data": {
      "text/plain": [
       "[<matplotlib.lines.Line2D at 0x78857b097278>]"
      ]
     },
     "execution_count": 139,
     "metadata": {},
     "output_type": "execute_result"
    },
    {
     "data": {
      "image/png": "[encoded data removed]",
      "text/plain": [
       "<matplotlib.figure.Figure at 0x78857b01feb8>"
      ]
     },
     "metadata": {
      "needs_background": "light"
     },
     "output_type": "display_data"
    }
   ],
   "source": [
    "plt.plot(x_span, sol[:,0],'b')\n",
    "plt.plot(x_span, sol[:,1],'r')\n",
    "#sol"
   ]
  },
  {
   "cell_type": "code",
   "execution_count": null,
   "metadata": {},
   "outputs": [],
   "source": []
  },
  {
   "cell_type": "code",
   "execution_count": null,
   "metadata": {},
   "outputs": [],
   "source": []
  }
 ],
 "metadata": {
  "kernelspec": {
   "display_name": "Python 3",
   "language": "python",
   "name": "python3"
  },
  "language_info": {
   "codemirror_mode": {
    "name": "ipython",
    "version": 3
   },
   "file_extension": ".py",
   "mimetype": "text/x-python",
   "name": "python",
   "nbconvert_exporter": "python",
   "pygments_lexer": "ipython3",
   "version": "3.5.2"
  }
 },
 "nbformat": 4,
 "nbformat_minor": 2
}
