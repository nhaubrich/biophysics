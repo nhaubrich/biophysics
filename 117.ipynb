{
 "cells": [
  {
   "cell_type": "code",
   "execution_count": 1,
   "metadata": {},
   "outputs": [],
   "source": [
    "import numpy as np\n",
    "import matplotlib.pyplot as plt"
   ]
  },
  {
   "cell_type": "code",
   "execution_count": 118,
   "metadata": {},
   "outputs": [
    {
     "name": "stdout",
     "output_type": "stream",
     "text": [
      "spins [ 1  1 -1 -1]\n",
      "[-1 -1  1 -1]\n",
      "[1 1 1 1]\n"
     ]
    }
   ],
   "source": [
    "N=4\n",
    "k=2\n",
    "\n",
    "xi=[]\n",
    "for i in range(k):\n",
    "    x=np.random.randint(2,size=N)*2-1\n",
    "    xi.append(x)\n",
    "##x1 = [1,-1,1,-1]\n",
    "#x2 = [1,1,-1,-1]\n",
    "#x3 = [-1,-1,-1,-1]\n",
    "#xi=[x1,x2,x3]\n",
    "\n",
    "W=np.zeros((N,N))\n",
    "for i in range(k):\n",
    "    W += np.outer(xi[i],xi[i])\n",
    "\n",
    "spins = np.random.randint(2,size=N)\n",
    "spins = 2*spins - 1\n",
    "print(\"spins\",spins)\n",
    "for i in xi:\n",
    "    print(i)"
   ]
  },
  {
   "cell_type": "code",
   "execution_count": null,
   "metadata": {},
   "outputs": [],
   "source": [
    "def update(spins, W):\n",
    "        i = np.random.randint(spins.size)\n",
    "        flip = np.sign( np.matmul(W,spins).sum() )\n",
    "        if(flip==0):\n",
    "            spins[i] = spins[i]\n",
    "        else:\n",
    "            spins[i] = flip\n",
    "        return spins\n",
    "    \n",
    "def hopfield(N,k):\n",
    "    xi=[]\n",
    "    for i in range(k):\n",
    "        x=np.random.randint(2,size=N)*2-1\n",
    "        xi.append(x)\n",
    "\n",
    "    W=np.zeros((N,N))\n",
    "    for i in range(k):\n",
    "        W += np.outer(xi[i],xi[i])\n",
    "\n",
    "    spins = np.random.randint(2,size=N)\n",
    "    spins = 2*spins - 1\n",
    "    #print(\"initial spins\",spins)\n",
    "    #for i in xi:\n",
    "        #print(\"xi: \",i)\n",
    "    prev = 0\n",
    "    #while np.all(prev==spins):\n",
    "    #    prev = spins\n",
    "    #    spins = update(spins,W)   \n",
    "    for x in range(1000):\n",
    "        spins = update(spins,W)\n",
    "\n",
    "    #print(\"end state: \",spins)\n",
    "    ms = []\n",
    "    for i in xi:\n",
    "        ms.append(1/N*np.abs(np.matmul(spins,i)))\n",
    "    return max(ms)"
   ]
  },
  {
   "cell_type": "code",
   "execution_count": 300,
   "metadata": {},
   "outputs": [
    {
     "data": {
      "text/plain": [
       "0.2"
      ]
     },
     "execution_count": 300,
     "metadata": {},
     "output_type": "execute_result"
    }
   ],
   "source": [
    "hopfield(10,2)"
   ]
  },
  {
   "cell_type": "code",
   "execution_count": 296,
   "metadata": {},
   "outputs": [
    {
     "name": "stdout",
     "output_type": "stream",
     "text": [
      "0\n",
      "1\n",
      "2\n",
      "3\n",
      "4\n",
      "5\n",
      "6\n",
      "7\n",
      "8\n",
      "9\n",
      "10\n",
      "11\n",
      "12\n",
      "13\n",
      "14\n",
      "15\n",
      "16\n",
      "17\n",
      "18\n",
      "19\n"
     ]
    }
   ],
   "source": [
    "order = np.zeros(shape=(20,20))\n",
    "for n in range(20):\n",
    "    print(n)\n",
    "    for k in range(n):\n",
    "        for x in range(20):\n",
    "            order[n,k] += hopfield(n+1,k+1)/20"
   ]
  },
  {
   "cell_type": "code",
   "execution_count": 297,
   "metadata": {},
   "outputs": [
    {
     "data": {
      "image/png": "[encoded data removed]",
      "text/plain": [
       "<matplotlib.figure.Figure at 0x73b896500b00>"
      ]
     },
     "metadata": {
      "needs_background": "light"
     },
     "output_type": "display_data"
    }
   ],
   "source": [
    "im = plt.imshow(order)\n",
    "ax = plt.gca()\n",
    "cbar = ax.figure.colorbar(im, ax=ax)\n",
    "plt.xlabel(\"k\")\n",
    "plt.ylabel(\"n\")\n",
    "plt.show()"
   ]
  },
  {
   "cell_type": "code",
   "execution_count": 307,
   "metadata": {},
   "outputs": [
    {
     "name": "stdout",
     "output_type": "stream",
     "text": [
      "0\n",
      "1\n",
      "2\n",
      "3\n",
      "4\n",
      "5\n",
      "6\n",
      "7\n",
      "8\n",
      "9\n",
      "10\n",
      "11\n",
      "12\n",
      "13\n",
      "14\n",
      "15\n",
      "16\n",
      "17\n",
      "18\n",
      "19\n",
      "20\n",
      "21\n",
      "22\n",
      "23\n",
      "24\n",
      "25\n",
      "26\n",
      "27\n",
      "28\n",
      "29\n",
      "30\n",
      "31\n",
      "32\n",
      "33\n",
      "34\n",
      "35\n",
      "36\n",
      "37\n",
      "38\n",
      "39\n",
      "40\n",
      "41\n",
      "42\n",
      "43\n",
      "44\n",
      "45\n",
      "46\n",
      "47\n",
      "48\n",
      "49\n",
      "50\n",
      "51\n",
      "52\n",
      "53\n",
      "54\n",
      "55\n",
      "56\n",
      "57\n",
      "58\n",
      "59\n",
      "60\n",
      "61\n",
      "62\n",
      "63\n",
      "64\n",
      "65\n",
      "66\n",
      "67\n",
      "68\n",
      "69\n",
      "70\n",
      "71\n",
      "72\n",
      "73\n",
      "74\n",
      "75\n",
      "76\n",
      "77\n",
      "78\n",
      "79\n",
      "80\n",
      "81\n",
      "82\n",
      "83\n",
      "84\n",
      "85\n",
      "86\n",
      "87\n",
      "88\n",
      "89\n",
      "90\n",
      "91\n",
      "92\n",
      "93\n",
      "94\n",
      "95\n",
      "96\n",
      "97\n",
      "98\n",
      "99\n"
     ]
    }
   ],
   "source": [
    "n=100\n",
    "large_n_order = np.zeros(shape=(100))\n",
    "for k in range(n):\n",
    "    print(k)\n",
    "    for x in range(20):\n",
    "        large_n_order[k] += hopfield((n+1)*5,(k+1)*5)/20"
   ]
  },
  {
   "cell_type": "code",
   "execution_count": 306,
   "metadata": {},
   "outputs": [
    {
     "data": {
      "text/plain": [
       "array([0.0750495 , 0.07782178, 0.1009901 , 0.09881188, 0.10811881,\n",
       "       0.10712871, 0.10039604, 0.10693069, 0.11227723, 0.11643564,\n",
       "       0.11425743, 0.1150495 , 0.11326733, 0.11009901, 0.12257426,\n",
       "       0.11445545, 0.12693069, 0.12079208, 0.11445545, 0.12534653,\n",
       "       0.05554455, 0.        , 0.        , 0.        , 0.        ,\n",
       "       0.        , 0.        , 0.        , 0.        , 0.        ,\n",
       "       0.        , 0.        , 0.        , 0.        , 0.        ,\n",
       "       0.        , 0.        , 0.        , 0.        , 0.        ,\n",
       "       0.        , 0.        , 0.        , 0.        , 0.        ,\n",
       "       0.        , 0.        , 0.        , 0.        , 0.        ,\n",
       "       0.        , 0.        , 0.        , 0.        , 0.        ,\n",
       "       0.        , 0.        , 0.        , 0.        , 0.        ,\n",
       "       0.        , 0.        , 0.        , 0.        , 0.        ,\n",
       "       0.        , 0.        , 0.        , 0.        , 0.        ,\n",
       "       0.        , 0.        , 0.        , 0.        , 0.        ,\n",
       "       0.        , 0.        , 0.        , 0.        , 0.        ,\n",
       "       0.        , 0.        , 0.        , 0.        , 0.        ,\n",
       "       0.        , 0.        , 0.        , 0.        , 0.        ,\n",
       "       0.        , 0.        , 0.        , 0.        , 0.        ,\n",
       "       0.        , 0.        , 0.        , 0.        , 0.        ])"
      ]
     },
     "execution_count": 306,
     "metadata": {},
     "output_type": "execute_result"
    }
   ],
   "source": [
    "large_n_order"
   ]
  },
  {
   "cell_type": "code",
   "execution_count": null,
   "metadata": {},
   "outputs": [],
   "source": []
  }
 ],
 "metadata": {
  "kernelspec": {
   "display_name": "Python 3",
   "language": "python",
   "name": "python3"
  },
  "language_info": {
   "codemirror_mode": {
    "name": "ipython",
    "version": 3
   },
   "file_extension": ".py",
   "mimetype": "text/x-python",
   "name": "python",
   "nbconvert_exporter": "python",
   "pygments_lexer": "ipython3",
   "version": "3.5.2"
  }
 },
 "nbformat": 4,
 "nbformat_minor": 2
}
