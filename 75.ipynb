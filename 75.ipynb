{
 "cells": [
  {
   "cell_type": "markdown",
   "metadata": {},
   "source": [
    "## First simulate the easy} case:\n",
    "## $y_1$ = x+$\\eta_1$\n",
    "## $y_2$ = x+$\\eta_2$\n",
    "## For a given x, generate many y's, look at (x-$x_{est}$)^2"
   ]
  },
  {
   "cell_type": "code",
   "execution_count": 31,
   "metadata": {},
   "outputs": [
    {
     "data": {
      "text/plain": [
       "<matplotlib.text.Text at 0x7633991911d0>"
      ]
     },
     "execution_count": 31,
     "metadata": {},
     "output_type": "execute_result"
    },
    {
     "data": {
      "image/png": "[encoded data removed]",
      "text/plain": [
       "<matplotlib.figure.Figure at 0x7633992717f0>"
      ]
     },
     "metadata": {
      "needs_background": "light"
     },
     "output_type": "display_data"
    }
   ],
   "source": [
    "import numpy as np\n",
    "import matplotlib.pyplot as plt\n",
    "x = 10\n",
    "sig1 = 2\n",
    "sig2 = 5\n",
    "\n",
    "samples = 10000\n",
    "\n",
    "y1 = x+ sig1**(.5)*np.random.normal(size=samples)\n",
    "y2 = x+ sig2**(.5)*np.random.normal(size=samples)\n",
    "\n",
    "#plt.hist(y1,bins=50,stacked=True,normed=True)\n",
    "#plt.show()\n",
    "#plt.hist(y2,bins=50,stacked=True,normed=True)\n",
    "#plt.show()\n",
    "#a=plt.hist2d(y1,y2,bins=(20,20))\n",
    "\n",
    "#estimator:\n",
    "def ls(y1,y2,noise1,noise2):\n",
    "    return (noise1*y2+noise2*y1)/(noise1+noise2)\n",
    "\n",
    "a=plt.hist((x - ls(y1,y2,sig1,sig2))**2,bins=50)\n",
    "plt.title(\"MSE of estimator, linear noise\")"
   ]
  },
  {
   "cell_type": "markdown",
   "metadata": {},
   "source": [
    "## Now say:\n",
    "## $y_1 = e^{g_1}x+\\eta_1$\n",
    "## $y_2 = e^{g_2}x+\\eta_2$"
   ]
  },
  {
   "cell_type": "code",
   "execution_count": 56,
   "metadata": {
    "scrolled": true
   },
   "outputs": [
    {
     "name": "stdout",
     "output_type": "stream",
     "text": [
      "7.062054742824071e+19 175398474.0422368\n",
      "51.13982270928477 3.421139229679196\n",
      "1.9463245135477002e+19 92080551.80872333\n"
     ]
    }
   ],
   "source": [
    "s1 = 50\n",
    "s2 = 20\n",
    "\n",
    "s1noise = s1**.5*np.random.normal(size=samples)\n",
    "s2noise = s2**.5*np.random.normal(size=samples)\n",
    "\n",
    "y1 = np.exp(s1noise)*x+ sig1**(.5)*np.random.normal(size=samples)\n",
    "y2 = np.exp(s2noise)*x+ sig2**(.5)*np.random.normal(size=samples)\n",
    "\n",
    "#plt.hist(y1,bins=100,log=True)\n",
    "#a=plt.hist((x - ls(y1,y2,noise1,noise2))**2,bins=50,log=True)\n",
    "\n",
    "def lin_est(y1,y2,sig1,sig2):\n",
    "    return (y1*sig2+y2*sig1)/(sig1+sig2)\n",
    "\n",
    "def mult_est(y1,y2,s1,s2):\n",
    "    return (np.log(abs(y1))*s2+np.log(abs(y2))*s1)/(s1+s2)\n",
    "\n",
    "#def comb_est(y1,y2,s1,s2,sig1,sig2):\n",
    "#    return (sig1*y2+sig2*y1 + np.log(abs(y1))*s2+np.log(abs(y2))*s1)/(s1+s2+sig1+sig2)\n",
    "\n",
    "def comb_est(y1,y2,s1,s2,sig1,sig2):\n",
    "    return 1/(1+np.exp(-(sig1+sig2)/(s1+s2)))*lin_est(y1,y2,sig1,sig2)  +  1/(1+np.exp(-(s1+s2)/(sig1+sig2)))*mult_est(y1,y2,s1,s2)\n",
    "    #return (sig1+sig2)/(sig1+sig2+s1+s2)**2*lin_est(y1,y2,sig1,sig2)  +  (s1+s2)/(sig1+sig2+s1+s2)**2*mult_est(y1,y2,s1,s2)\n",
    "    #return (sig1*y2+sig2*y1 + np.log(abs(y1))*s2+np.log(abs(y2))*s1)/(s1+s2+sig1+sig2)\n",
    "                                                                             \n",
    "print( np.mean((x-lin_est(y1,y2,sig1,sig2) )**2) , np.mean(lin_est(y1,y2,sig1,sig2)))\n",
    "#plt.hist(x-lin_est(y1,y2,sig1,sig2))\n",
    "print( np.mean((x-mult_est(y1,y2,s1,s2) )**2) ,np.mean(mult_est(y1,y2,s1,s2)))\n",
    "print( np.mean((x-comb_est(y1,y2,s1,s2,sig1,sig2) )**2), np.mean(comb_est(y1,y2,s1,s2,sig1,sig2) ))\n"
   ]
  },
  {
   "cell_type": "markdown",
   "metadata": {},
   "source": [
    "## Clearly this is a bad estimator"
   ]
  },
  {
   "cell_type": "code",
   "execution_count": null,
   "metadata": {},
   "outputs": [],
   "source": []
  }
 ],
 "metadata": {
  "kernelspec": {
   "display_name": "Python 3",
   "language": "python",
   "name": "python3"
  },
  "language_info": {
   "codemirror_mode": {
    "name": "ipython",
    "version": 3
   },
   "file_extension": ".py",
   "mimetype": "text/x-python",
   "name": "python",
   "nbconvert_exporter": "python",
   "pygments_lexer": "ipython3",
   "version": "3.5.2"
  }
 },
 "nbformat": 4,
 "nbformat_minor": 2
}
