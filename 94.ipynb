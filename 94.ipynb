{
 "cells": [
  {
   "cell_type": "markdown",
   "metadata": {},
   "source": [
    "# Problem 94"
   ]
  },
  {
   "cell_type": "code",
   "execution_count": 12,
   "metadata": {},
   "outputs": [],
   "source": [
    "import numpy as np\n",
    "import matplotlib.pyplot as plt\n",
    "import pandas as pd"
   ]
  },
  {
   "cell_type": "code",
   "execution_count": 8,
   "metadata": {},
   "outputs": [],
   "source": [
    "data = np.loadtxt(\"seqs.txt\",dtype=str)"
   ]
  },
  {
   "cell_type": "code",
   "execution_count": 13,
   "metadata": {},
   "outputs": [],
   "source": [
    "df = pd.DataFrame(data)"
   ]
  },
  {
   "cell_type": "code",
   "execution_count": 33,
   "metadata": {},
   "outputs": [],
   "source": [
    "seq = df[df[0]==\"crp-wt\"]\n",
    "b0 = seq[seq[1]==\"B0\"]\n",
    "b1 = seq[seq[1]==\"B1\"]"
   ]
  },
  {
   "cell_type": "markdown",
   "metadata": {},
   "source": [
    "## We want the probability of each base at a given position"
   ]
  },
  {
   "cell_type": "code",
   "execution_count": 132,
   "metadata": {},
   "outputs": [],
   "source": [
    "sum(b1[2].str[0]==\"A\")\n",
    "\n",
    "def base_freq(b1,i):\n",
    "    tot = sum(b1[2].str[i]!=0)\n",
    "    a_f = sum(b1[2].str[i]==\"A\")\n",
    "    t_f = sum(b1[2].str[i]==\"T\")\n",
    "    c_f = sum(b1[2].str[i]==\"C\")\n",
    "    g_f = sum(b1[2].str[i]==\"G\")\n",
    "    #return [a_f,t_f,c_f,g_f,tot]    \n",
    "    return [a_f/tot,t_f/tot,c_f/tot,g_f/tot,tot]"
   ]
  },
  {
   "cell_type": "code",
   "execution_count": 133,
   "metadata": {},
   "outputs": [],
   "source": [
    "#compute frequencies for all b1 sites\n",
    "b_freqs = []\n",
    "for n in range(1,10):\n",
    "    bs = seq[seq[1]==\"B\"+str(n)]\n",
    "    b_f = []\n",
    "    for x in range(len(bs[2].iloc[0])):\n",
    "        b_f.append(base_freq(bs,x))\n",
    "    b_freqs.append(b_f)"
   ]
  },
  {
   "cell_type": "code",
   "execution_count": 134,
   "metadata": {},
   "outputs": [],
   "source": [
    "b_freqs = np.array(b_freqs)"
   ]
  },
  {
   "cell_type": "code",
   "execution_count": 135,
   "metadata": {},
   "outputs": [
    {
     "data": {
      "text/plain": [
       "0.11829552681789272"
      ]
     },
     "execution_count": 135,
     "metadata": {},
     "output_type": "execute_result"
    }
   ],
   "source": [
    "b_freqs[1,10,1] #batch num, site along sequence, number of counts (0:3, 4 is total)"
   ]
  },
  {
   "cell_type": "markdown",
   "metadata": {},
   "source": [
    "## Computing Information"
   ]
  },
  {
   "cell_type": "code",
   "execution_count": 151,
   "metadata": {},
   "outputs": [
    {
     "name": "stderr",
     "output_type": "stream",
     "text": [
      "/usr/local/lib/python3.5/dist-packages/ipykernel_launcher.py:4: RuntimeWarning: divide by zero encountered in log\n",
      "  after removing the cwd from sys.path.\n"
     ]
    },
    {
     "name": "stdout",
     "output_type": "stream",
     "text": [
      "[0.016302127733059515, 7.590281099399167, 6.099633245180515, 6.190969541565895, 7.3388059907451435, 7.556008254102536, 5.810940184592536, 6.5084102186974375, 5.71055917082566, 6.442297583444777, 7.016408764077063, 7.521911007431436, 6.433282773936184, 6.321025870823342, 7.525985614008541, 7.135266693782275, 8.141486540164319, 5.751589819722397, 6.773667046880634, 7.022630305413414, 7.228000144055461, 6.582070836380772, 7.876926666163792, 7.652789365714276, 6.057930195753084, 6.390623861411185, 7.776098679850255, 0.15564596659709531, 0.2153657809091889, 0.3969310547762615, 0.2343682977783499, 0.2777224412660242, 0.18184112898731603, 0.15806935937904407, 0.3177457972665185, 0.273093964452925, 0.14675105809244168, 0.232058900791372, 0.3887928793221985, 0.14843063588247776, 0.03182333883329743, 0.11228178808562853, 0.23981181189691977, 0.3862451544166451, 0.20391489925202982, 0.3505871419085732, 0.1313035756873729, 0.05196158345553093, 0.09192106484242771, 0.18748409109822173, 0.15632677382022447, 0.19796290917803894, 0.3053440262057614, 0.11294228630837352, 0.0573374437042073, 0.24342859601806252, 0.18482330577166994, 0.16656752218988097, 0.11155051960891592, 0.2944413260097132, 0.11965058826611619, 0.3127159370758303, 0.1436804724166549, 0.09390504759206522, 0.08594016698102365, 0.06930304365600475, 0.11037616300696322, 0.052039103466338374, 0.059745570751967, 0.0868562570279085, 0.04730656929842171, 0.06931962840427029, 0.04070628453456013, 0.04574155710450284, 0.03793997058970711]\n"
     ]
    },
    {
     "data": {
      "image/png": "[encoded data removed]",
      "text/plain": [
       "<matplotlib.figure.Figure at 0x769cc0f239e8>"
      ]
     },
     "metadata": {
      "needs_background": "light"
     },
     "output_type": "display_data"
    }
   ],
   "source": [
    "I = []\n",
    "for k in range(len(b_freqs[0,:,0])):\n",
    "    \n",
    "    I.append( -1* sum(sum(  b_freqs[:,k,:-1] * np.nan_to_num(np.log(b_freqs[:,k,:-1]) ))  )  )\n",
    "    \n",
    "plt.plot( range(len(I)), I)\n",
    "print(I)"
   ]
  },
  {
   "cell_type": "markdown",
   "metadata": {},
   "source": [
    "## Clearly, only sites 1 through ~25 carry much information, and the rest are very similar.  The Information doesn't appear to ever be exactly zero, but it can get very low at the begining and very end."
   ]
  },
  {
   "cell_type": "code",
   "execution_count": null,
   "metadata": {},
   "outputs": [],
   "source": []
  }
 ],
 "metadata": {
  "kernelspec": {
   "display_name": "Python 3",
   "language": "python",
   "name": "python3"
  },
  "language_info": {
   "codemirror_mode": {
    "name": "ipython",
    "version": 3
   },
   "file_extension": ".py",
   "mimetype": "text/x-python",
   "name": "python",
   "nbconvert_exporter": "python",
   "pygments_lexer": "ipython3",
   "version": "3.5.2"
  }
 },
 "nbformat": 4,
 "nbformat_minor": 2
}
